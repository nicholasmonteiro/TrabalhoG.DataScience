{
  "nbformat": 4,
  "nbformat_minor": 0,
  "metadata": {
    "kernelspec": {
      "display_name": "Python 3",
      "language": "python",
      "name": "python3"
    },
    "language_info": {
      "codemirror_mode": {
        "name": "ipython",
        "version": 3
      },
      "file_extension": ".py",
      "mimetype": "text/x-python",
      "name": "python",
      "nbconvert_exporter": "python",
      "pygments_lexer": "ipython3",
      "version": "3.7.2"
    },
    "colab": {
      "name": "Cópia de AV2_Gestão_do_Conhecimento.ipynb",
      "provenance": [],
      "collapsed_sections": [],
      "toc_visible": true
    }
  },
  "cells": [
    {
      "cell_type": "markdown",
      "metadata": {
        "id": "8e6IcCsJCxVz",
        "colab_type": "text"
      },
      "source": [
        "DISCIPLINA: Gestão do Conhecimento\t PROFESSOR(A): Alex Salgado\n",
        "PERÍODO: 7o. TURNO: noite AVALIAÇÃO:\n",
        "\n",
        "ALUNOS: Jonatan e Nicholas \n",
        "\n",
        "GRAU: VISTO DO PROFESSOR:\n"
      ]
    },
    {
      "cell_type": "markdown",
      "metadata": {
        "id": "_3h1pahVCxV2",
        "colab_type": "text"
      },
      "source": [
        "# Questão 1 - valor (1,0)\n"
      ]
    },
    {
      "cell_type": "markdown",
      "metadata": {
        "id": "A-cj5d2rCxV3",
        "colab_type": "text"
      },
      "source": [
        "*** Crie um repositório no Github e adicione este arquivo no mesmo\n",
        "\n",
        "\n",
        "1.1 - Você deve escolher uma base de dados aberta que seja possível treinar um modelo de aprendizagem de máquina Supervisionado de Classificação (assim como o exemplo da Iris e Cancer). A partir desta base de dados, você vai treinar o modelo, fazer previsões e calcular a acurácia do mesmo.\n",
        "Obs.: Não utilizar nenhuma base de dados usada em aula,  nos trabalhos ou na biblioteca do sklearn.\n"
      ]
    },
    {
      "cell_type": "markdown",
      "metadata": {
        "id": "3P5uSWxsDb5r",
        "colab_type": "text"
      },
      "source": [
        "[link text](https://)"
      ]
    },
    {
      "cell_type": "code",
      "metadata": {
        "id": "CWD182zJCxV4",
        "colab_type": "code",
        "colab": {}
      },
      "source": [
        ""
      ],
      "execution_count": null,
      "outputs": []
    },
    {
      "cell_type": "markdown",
      "metadata": {
        "id": "a-D7KRIzCxV8",
        "colab_type": "text"
      },
      "source": [
        "1.2 - Após tratada, criar uma pasta no seu GoogleDrive e disponibilizar o link do arquivo de sua base (csv, xlsx, etc) para ser importado no seu código."
      ]
    },
    {
      "cell_type": "code",
      "metadata": {
        "id": "lT8fVn5TCxV8",
        "colab_type": "code",
        "colab": {}
      },
      "source": [
        "#https://drive.google.com/file/d/1HxNQWCJEYVvogY3WR21zu6n_Xk3F70jh/view?usp=sharing"
      ],
      "execution_count": 1,
      "outputs": []
    },
    {
      "cell_type": "markdown",
      "metadata": {
        "id": "lvPXgDBDCxV_",
        "colab_type": "text"
      },
      "source": [
        "## Criar um código usando o Jupyter Notebook e responder (através de código) às seguintes questões:\n"
      ]
    },
    {
      "cell_type": "markdown",
      "metadata": {
        "id": "LMkAEsOKCxWA",
        "colab_type": "text"
      },
      "source": [
        "# Questão 2 - valor (1,0)"
      ]
    },
    {
      "cell_type": "markdown",
      "metadata": {
        "id": "yOSNQel0CxWA",
        "colab_type": "text"
      },
      "source": [
        "2.1 - Importar os modulos python para machine learn e carregar o arquivo \n",
        "\n",
        "** Sugestão se for do tipo xlsx, usar o read_excel do pandas\n",
        "import pandas as pd\n",
        "dt = pd.read_excel(\"meuarquivo.xlsx\")\n"
      ]
    },
    {
      "cell_type": "code",
      "metadata": {
        "id": "zA6l-qg9CxWB",
        "colab_type": "code",
        "colab": {}
      },
      "source": [
        "import pandas as pd\n",
        "dt = pd.read_excel('/content/ucs-por-bioma-2018.xlsx')"
      ],
      "execution_count": null,
      "outputs": []
    },
    {
      "cell_type": "markdown",
      "metadata": {
        "id": "_NIYxnZnCxWD",
        "colab_type": "text"
      },
      "source": [
        "2.2 - Exibir os primeiros registros desta tabela.\n"
      ]
    },
    {
      "cell_type": "code",
      "metadata": {
        "id": "owd5CVN9CxWE",
        "colab_type": "code",
        "colab": {
          "base_uri": "https://localhost:8080/",
          "height": 204
        },
        "outputId": "b20daa0d-ac6a-4f6f-b3a3-ad6fc66c21a3"
      },
      "source": [
        "dt.head()"
      ],
      "execution_count": null,
      "outputs": [
        {
          "output_type": "execute_result",
          "data": {
            "text/html": [
              "<div>\n",
              "<style scoped>\n",
              "    .dataframe tbody tr th:only-of-type {\n",
              "        vertical-align: middle;\n",
              "    }\n",
              "\n",
              "    .dataframe tbody tr th {\n",
              "        vertical-align: top;\n",
              "    }\n",
              "\n",
              "    .dataframe thead th {\n",
              "        text-align: right;\n",
              "    }\n",
              "</style>\n",
              "<table border=\"1\" class=\"dataframe\">\n",
              "  <thead>\n",
              "    <tr style=\"text-align: right;\">\n",
              "      <th></th>\n",
              "      <th>Biomas</th>\n",
              "      <th>Área de Proteção Integral (ha)</th>\n",
              "      <th>Área de Uso Sustentável (ha)</th>\n",
              "      <th>Área total (ha)</th>\n",
              "      <th>%</th>\n",
              "    </tr>\n",
              "  </thead>\n",
              "  <tbody>\n",
              "    <tr>\n",
              "      <th>0</th>\n",
              "      <td>Amazônia</td>\n",
              "      <td>43019000</td>\n",
              "      <td>76658900</td>\n",
              "      <td>119677800</td>\n",
              "      <td>73.74</td>\n",
              "    </tr>\n",
              "    <tr>\n",
              "      <th>1</th>\n",
              "      <td>Caatinga</td>\n",
              "      <td>1117400</td>\n",
              "      <td>5359300</td>\n",
              "      <td>6476700</td>\n",
              "      <td>3.99</td>\n",
              "    </tr>\n",
              "    <tr>\n",
              "      <th>2</th>\n",
              "      <td>Cerrado</td>\n",
              "      <td>6489700</td>\n",
              "      <td>11245800</td>\n",
              "      <td>17735500</td>\n",
              "      <td>10.93</td>\n",
              "    </tr>\n",
              "    <tr>\n",
              "      <th>3</th>\n",
              "      <td>Pantanal</td>\n",
              "      <td>440300</td>\n",
              "      <td>248800</td>\n",
              "      <td>689100</td>\n",
              "      <td>0.42</td>\n",
              "    </tr>\n",
              "    <tr>\n",
              "      <th>4</th>\n",
              "      <td>Mata Atlântica</td>\n",
              "      <td>2871100</td>\n",
              "      <td>8671900</td>\n",
              "      <td>11543100</td>\n",
              "      <td>7.11</td>\n",
              "    </tr>\n",
              "  </tbody>\n",
              "</table>\n",
              "</div>"
            ],
            "text/plain": [
              "           Biomas  Área de Proteção Integral (ha)  ...  Área total (ha)      %\n",
              "0        Amazônia                        43019000  ...        119677800  73.74\n",
              "1        Caatinga                         1117400  ...          6476700   3.99\n",
              "2         Cerrado                         6489700  ...         17735500  10.93\n",
              "3        Pantanal                          440300  ...           689100   0.42\n",
              "4  Mata Atlântica                         2871100  ...         11543100   7.11\n",
              "\n",
              "[5 rows x 5 columns]"
            ]
          },
          "metadata": {
            "tags": []
          },
          "execution_count": 2
        }
      ]
    },
    {
      "cell_type": "markdown",
      "metadata": {
        "id": "ROM2Hy1CCxWG",
        "colab_type": "text"
      },
      "source": [
        "2.3 - De que se trata esse banco de dados? e que tipo de previsão pode ser feito com ele?\n"
      ]
    },
    {
      "cell_type": "code",
      "metadata": {
        "id": "Xh68K5SjCxWH",
        "colab_type": "code",
        "colab": {}
      },
      "source": [
        "#tamanho da área de preservação em cada bioma"
      ],
      "execution_count": 3,
      "outputs": []
    },
    {
      "cell_type": "markdown",
      "metadata": {
        "id": "1lCf85KKCxWJ",
        "colab_type": "text"
      },
      "source": [
        "# Questão 3 - valor (0,5)\n"
      ]
    },
    {
      "cell_type": "markdown",
      "metadata": {
        "id": "isyZsq2NCxWK",
        "colab_type": "text"
      },
      "source": [
        "Utilizando as terminologias de Machine Learning(features e observações):\n",
        "\n"
      ]
    },
    {
      "cell_type": "markdown",
      "metadata": {
        "id": "pbuaWyeECxWL",
        "colab_type": "text"
      },
      "source": [
        "3.1 - Quantas \"features\" têm nessa base de dados?"
      ]
    },
    {
      "cell_type": "code",
      "metadata": {
        "id": "MY5Xwd0gCxWL",
        "colab_type": "code",
        "colab": {}
      },
      "source": [
        "#4"
      ],
      "execution_count": 4,
      "outputs": []
    },
    {
      "cell_type": "markdown",
      "metadata": {
        "id": "RtwxkASmCxWN",
        "colab_type": "text"
      },
      "source": [
        "3.2 - Quantas observações têm nessa base de dados?\n"
      ]
    },
    {
      "cell_type": "code",
      "metadata": {
        "id": "yN1QNvh-CxWO",
        "colab_type": "code",
        "colab": {}
      },
      "source": [
        "#8"
      ],
      "execution_count": null,
      "outputs": []
    },
    {
      "cell_type": "markdown",
      "metadata": {
        "id": "AudYWfr1CxWQ",
        "colab_type": "text"
      },
      "source": [
        "# Questão 4 - valor (1,0)\n"
      ]
    },
    {
      "cell_type": "markdown",
      "metadata": {
        "id": "pJxRMc1HCxWR",
        "colab_type": "text"
      },
      "source": [
        "4.1 - Faça uma previsão, usando o algoritmo de LogisticRegression.\n"
      ]
    },
    {
      "cell_type": "code",
      "metadata": {
        "id": "Tu7ZKtSkCxWS",
        "colab_type": "code",
        "colab": {}
      },
      "source": [
        "colunas = ['Biomas', 'Área de Proteção Integral (ha)', 'Área de Uso Sustentável (ha)', 'Área total (ha)', '%' ]\n",
        "dt.columns = colunas\n",
        "\n",
        "features = ['Área de Proteção Integral (ha)', 'Área de Uso Sustentável (ha)', 'Área total (ha)', '%']\n",
        "target = dt['Biomas']\n",
        "\n",
        "dtbase = dt[features]"
      ],
      "execution_count": null,
      "outputs": []
    },
    {
      "cell_type": "code",
      "metadata": {
        "id": "rXZl5KEKvQRo",
        "colab_type": "code",
        "colab": {}
      },
      "source": [
        "x = dtbase\n",
        "y = target"
      ],
      "execution_count": null,
      "outputs": []
    },
    {
      "cell_type": "code",
      "metadata": {
        "id": "ZcE_KlV3vV2j",
        "colab_type": "code",
        "colab": {
          "base_uri": "https://localhost:8080/",
          "height": 34
        },
        "outputId": "08cf80be-fcfc-4f41-e24d-59f45def7b87"
      },
      "source": [
        "# import the class\n",
        "from sklearn.linear_model import LogisticRegression\n",
        "\n",
        "# instantiate the model (using the default parameters)\n",
        "logreg = LogisticRegression(max_iter= 10000000)\n",
        "\n",
        "# fit the model with data\n",
        "logreg.fit(x, y)\n",
        "\n",
        "X_new = [[90.55, 2.77, 11.88, 70.85]]\n",
        "\n",
        "# predict the response for new observations\n",
        "logreg.predict(X_new)"
      ],
      "execution_count": null,
      "outputs": [
        {
          "output_type": "execute_result",
          "data": {
            "text/plain": [
              "array(['Pantanal'], dtype=object)"
            ]
          },
          "metadata": {
            "tags": []
          },
          "execution_count": 5
        }
      ]
    },
    {
      "cell_type": "markdown",
      "metadata": {
        "id": "xbpLvAhTCxWU",
        "colab_type": "text"
      },
      "source": [
        "# Questão 5 - valor (1,5)\n"
      ]
    },
    {
      "cell_type": "markdown",
      "metadata": {
        "id": "cp4fWsL7CxWU",
        "colab_type": "text"
      },
      "source": [
        "Usando o método de avaliação de acurácia (Treinar e testar na base de dados inteira/Train test entire model), Calcular a acurácia de cada um dos 3 métodos abaixo."
      ]
    },
    {
      "cell_type": "markdown",
      "metadata": {
        "id": "C40t1F9ICxWV",
        "colab_type": "text"
      },
      "source": [
        "4.1 - Acurácia usando o algoritmo de KNN (com 1 vizinho, k=1)\n"
      ]
    },
    {
      "cell_type": "code",
      "metadata": {
        "id": "3d5YPueDCxWW",
        "colab_type": "code",
        "colab": {
          "base_uri": "https://localhost:8080/",
          "height": 34
        },
        "outputId": "18472c65-195a-483d-d626-1aec05d6101d"
      },
      "source": [
        "from sklearn.neighbors import KNeighborsClassifier\n",
        "from sklearn import metrics\n",
        "knn = KNeighborsClassifier(n_neighbors=1)\n",
        "knn.fit(x, y)\n",
        "y_pred = knn.predict(x)\n",
        "print(metrics.accuracy_score(y, y_pred))"
      ],
      "execution_count": null,
      "outputs": [
        {
          "output_type": "stream",
          "text": [
            "1.0\n"
          ],
          "name": "stdout"
        }
      ]
    },
    {
      "cell_type": "markdown",
      "metadata": {
        "id": "mNmy44xfCxWY",
        "colab_type": "text"
      },
      "source": [
        "4.2 - Acurácia usando o algoritmo de KNN (com 5 vizinho, k=5)\n"
      ]
    },
    {
      "cell_type": "code",
      "metadata": {
        "id": "caGkCtYGCxWY",
        "colab_type": "code",
        "colab": {
          "base_uri": "https://localhost:8080/",
          "height": 34
        },
        "outputId": "acfcd399-f4f3-49b8-9986-618b8a0abb1f"
      },
      "source": [
        "from sklearn.neighbors import KNeighborsClassifier\n",
        "knn = KNeighborsClassifier(n_neighbors=5)\n",
        "knn.fit(x, y)\n",
        "y_pred = knn.predict(x)\n",
        "print(metrics.accuracy_score(y, y_pred))"
      ],
      "execution_count": null,
      "outputs": [
        {
          "output_type": "stream",
          "text": [
            "0.25\n"
          ],
          "name": "stdout"
        }
      ]
    },
    {
      "cell_type": "markdown",
      "metadata": {
        "id": "3xUZm_JICxWa",
        "colab_type": "text"
      },
      "source": [
        "4.3 - Acurácia usando o algoritmo de LogisticRegression\n"
      ]
    },
    {
      "cell_type": "code",
      "metadata": {
        "id": "VvAgNcVsCxWb",
        "colab_type": "code",
        "colab": {
          "base_uri": "https://localhost:8080/",
          "height": 51
        },
        "outputId": "a2aabea2-117c-4810-f95b-30de69fdc92f"
      },
      "source": [
        "from sklearn.linear_model import LogisticRegression\n",
        "\n",
        "# instantiate the model (using the default parameters)\n",
        "logreg = LogisticRegression(max_iter= 10000000)\n",
        "\n",
        "# fit the model with data\n",
        "logreg.fit(x, y)\n",
        "\n",
        "# predict the response values for the observations in X\n",
        "logreg.predict(x)"
      ],
      "execution_count": null,
      "outputs": [
        {
          "output_type": "execute_result",
          "data": {
            "text/plain": [
              "array(['Amazônia', 'Caatinga', 'Cerrado', 'Pantanal', 'Mata Atlântica',\n",
              "       'Pampa', 'Marinho Costeiro', 'Total'], dtype=object)"
            ]
          },
          "metadata": {
            "tags": []
          },
          "execution_count": 8
        }
      ]
    },
    {
      "cell_type": "markdown",
      "metadata": {
        "id": "8FkyIUHbCxWd",
        "colab_type": "text"
      },
      "source": [
        "4.4 - De acordo com seus resultados anteriores, qual dos 3 métodos é mais eficiente?\n"
      ]
    },
    {
      "cell_type": "code",
      "metadata": {
        "id": "K0AE8XQ1CxWd",
        "colab_type": "code",
        "colab": {}
      },
      "source": [
        "o mais eficiente foi o knn 5"
      ],
      "execution_count": null,
      "outputs": []
    },
    {
      "cell_type": "code",
      "metadata": {
        "id": "zRDUIRloCxWf",
        "colab_type": "code",
        "colab": {}
      },
      "source": [
        "*** Envie o link do seu Github com essa resposta no Classroom\n"
      ],
      "execution_count": null,
      "outputs": []
    }
  ]
}